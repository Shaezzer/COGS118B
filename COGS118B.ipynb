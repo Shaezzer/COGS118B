{
 "cells": [
  {
   "cell_type": "code",
   "execution_count": 30,
   "metadata": {},
   "outputs": [
    {
     "name": "stderr",
     "output_type": "stream",
     "text": [
 
      "[nltk_data] Downloading package punkt to /home/ppokhare/nltk_data...\n",
      "[nltk_data]   Package punkt is already up-to-date!\n",
      "[nltk_data] Downloading package averaged_perceptron_tagger to\n",
      "[nltk_data]     /home/ppokhare/nltk_data...\n",

      "[nltk_data] Downloading package punkt to\n",
      "[nltk_data]     C:\\Users\\cocoy\\AppData\\Roaming\\nltk_data...\n",
      "[nltk_data]   Package punkt is already up-to-date!\n",
      "[nltk_data] Downloading package averaged_perceptron_tagger to\n",
      "[nltk_data]     C:\\Users\\cocoy\\AppData\\Roaming\\nltk_data...\n",
 
      "[nltk_data]   Package averaged_perceptron_tagger is already up-to-\n",
      "[nltk_data]       date!\n"
     ]
    },
    {
     "data": {
      "text/plain": [
       "True"
      ]
     },
     "execution_count": 1,
     "metadata": {},
     "output_type": "execute_result"
    }
   ],
   "source": [
    "import pandas as pd\n",
    "import random\n",
    "import numpy as np\n",
    "import nltk\n",
    "import string\n",
    "from sklearn.feature_extraction.text import TfidfVectorizer\n",
    "from string import punctuation\n",
    "from nltk.corpus import stopwords\n",
    "from nltk.corpus import wordnet\n",
    "from nltk.stem import WordNetLemmatizer \n",
    "from nltk.tokenize import word_tokenize\n",
    "import unicodedata\n",
    "#import inflect\n",
    "import re\n",
    "from itertools import chain\n",
    "#!pip install contractions\n",
    "#import contractions\n",
    "nltk.download('punkt')\n",
    "nltk.download('averaged_perceptron_tagger')\n",
 
    "import matplotlib.pyplot as plt\n",
    "from sklearn.preprocessing import MultiLabelBinarizer\n",
    "import seaborn as sns\n",
    "from sklearn.model_selection import GridSearchCV\n",
    "from sklearn.linear_model import SGDClassifier\n",
    "from sklearn import metrics\n",
    "\n",
    "#prabesh being stupid sunday morning\n",
    "from sklearn import model_selection, preprocessing, linear_model, naive_bayes, metrics, svm\n",
    "import gensim\n",
    "\n",
    "\n",
    "\n",
    "\n",
    "\n",
    "import warnings\n",
    "warnings.filterwarnings('ignore')"

    "\n"
 
   ]
  },
  {
   "cell_type": "code",
   "execution_count": 2,
   "metadata": {
    "colab": {},
    "colab_type": "code",
    "id": "Nuc24nwLI46K"
   },
   "outputs": [],
   "source": [
    "#load in the csv contatining the data\n",
    "df_original = pd.read_csv('wiki_movie_plots_deduped.csv')"
   ]
  },
  {
   "cell_type": "code",
   "execution_count": 3,
   "metadata": {},
 
   "outputs": [],
   "source": [
    "# drop unknown values and unneccessary columns\n",
    "df_all = df_original.drop(df_original[df_original['Genre'] == \"unknown\"].index, \n",
    "                          inplace = False)\n",
    "df_all = df_all.drop(['Release Year','Origin/Ethnicity','Cast', 'Wiki Page','Director',\n",
    "                      'Release Year'],axis=1,)"
   ]
  },
  {
   "cell_type": "code",
   "execution_count": 4,
   "metadata": {},

 
   "outputs": [],
   "source": [
    "#Function to create dataframes for each genre; using 1000 elements for training \n",
    "def dataframe_creator(genre):\n",
    "    genre = df_original.drop(df_original[df_original['Genre'] != genre].index, inplace = False)\n",
 
    "    #genre.drop(['Release Year','Origin/Ethnicity','Cast', 'Wiki Page','Director','Release Year'],axis=1, \n",
    "    #           inplace = True)\n",

    "    genre.drop(['Release Year','Origin/Ethnicity','Cast', 'Wiki Page','Director','Release Year'],axis=1, \n",
    "               inplace = True)\n",
 
    "    genre = genre.sample(frac=1)\n",
    "    genre = genre.reset_index(drop=True)\n",
    "    genre_train = genre[0:1000]\n",
    "    genre_test = genre[1000:len(genre)]\n",
    "    return (genre_train,genre_test)"
   ]
  },
  {
   "cell_type": "code",
 
   "execution_count": 6,

   "execution_count": 4,
 
   "metadata": {},
   "outputs": [],
   "source": [
    "#List of Genres we want to run analysis on\n",
    "df_horror_train,df_horror_test = dataframe_creator('horror')\n",
    "df_comedy_train,df_comedy_test = dataframe_creator('comedy')\n",
 
    "df_drama_train, df_drama_test = dataframe_creator('drama')\n",
    "df_action_train,df_action_test = dataframe_creator('action')\n",
    "df_thriller_train,df_thriller_test = dataframe_creator('thriller')\n",
    "df_romance_train,df_romance_test = dataframe_creator('romance')\n",
    "df_western_train,df_western_test = dataframe_creator('western')\n",
    "\n",
    "\n",
    "#Creating dataframes for all genres for training\n",
    "df_train = pd.concat([df_horror_train,df_comedy_train, df_drama_train,df_action_train,df_thriller_train,df_romance_train,df_western_train])\n",
    "#df_train = pd.concat([df_horror_train,df_comedy_train,])\n",
    "\n",
    "#creating dataframes for all genres for testing\n",
    "df_test = pd.concat([df_horror_test,df_comedy_test, df_drama_test,df_action_test,df_thriller_test,df_romance_test,df_western_test])\n",
    "#df_test = pd.concat([df_horror_test,df_comedy_test])"

    "\n",
    "#Creating dataframes for all genres for training\n",
    "df_train = pd.concat([df_horror_train,df_comedy_train])\n",
    "\n",
    "#creating dataframes for all genres for testing\n",
    "df_test = pd.concat([df_horror_test,df_comedy_test])"
 
   ]
  },
  {
   "cell_type": "code",
 
   "execution_count": null,
   "metadata": {},
   "outputs": [],
   "source": []
  },
  {
   "cell_type": "code",
   "execution_count": 7,

   "execution_count": 5,
 
   "metadata": {},
   "outputs": [],
   "source": [
    "# Check word type of a word\n",
    "def get_wordnet_pos(word):\n",
    "    tag = nltk.pos_tag([word])[0][1][0].upper()\n",
    "    tag_dict = {\"J\": wordnet.ADJ,\n",
    "                \"N\": wordnet.NOUN,\n",
    "                \"V\": wordnet.VERB,\n",
    "                \"R\": wordnet.ADV}\n",
    "\n",
    "    return tag_dict.get(tag, wordnet.NOUN)"
   ]
  },
  {
   "cell_type": "code",
 
   "execution_count": 8,

   "execution_count": 6,
 
   "metadata": {},
   "outputs": [],
   "source": [
    "#Function for text pre-processing\n",
    "def normalizeText(row):\n",
    "    \n",
    "    #create a list of punctuations we wish to delete\n",
    "    punctuations = string.punctuation\n",
    "    #create a list of stopwords in English\n",
    "    stopWords = set(stopwords.words('english'))\n",
    "    \n",
    "    #change all letters to lower case\n",
    "    row = row.lower()  \n",
    "    \n",
    "    #remove numbers\n",
    "    row = re.sub(\" \\d+\", \" \", row)\n",
    "                 \n",
    "    #remove punctutation\n",
    "    for letter in row: \n",
    "    \n",
    "        if letter in punctuations: \n",
    "            row = row.replace(letter, \"\")\n",
    "    \n",
    "    #expand the contraction I'm -> I am\n",
    "    #row = contractions.fix(row)\n",
    "    # got it from (https://github.com/kootenpv/contractions)\n",
    "                \n",
    "    #remove accent char\n",
    "    row = unicodedata.normalize('NFKD', row).encode('ascii', 'ignore').decode('utf-8', 'ignore')\n",
    "                 \n",
    "    #remove extra whitespace convert into a word  \n",
    "    row = row.strip()\n",
    "    \n",
    "    # TOKENIZATION: process of splitting text into smaller piece called tokens.\n",
    "    tokens = word_tokenize(row)\n",
    "    \n",
    "    # lemmatization step played -> play\n",
    "    lemmatizer = WordNetLemmatizer()\n",
    "    row = ' '.join([lemmatizer.lemmatize(w, get_wordnet_pos(w)) for w in nltk.word_tokenize(row)])\n",
    "    \n",
    "    #remove stop words such as \"a\", \"the\", \"is\"\n",
    "    tokens = word_tokenize(row)\n",
    "    row = ' '.join([i for i in tokens if not i in stopWords])\n",
    "     \n",
    "    return row"
   ]
  },
  {
   "cell_type": "code",
 
   "execution_count": 9,
   "metadata": {
    "scrolled": true
   },
   "outputs": [],

   "execution_count": 7,
   "metadata": {},
   "outputs": [
    {
     "ename": "KeyboardInterrupt",
     "evalue": "",
     "output_type": "error",
     "traceback": [
      "\u001b[1;31m---------------------------------------------------------------------------\u001b[0m",
      "\u001b[1;31mKeyboardInterrupt\u001b[0m                         Traceback (most recent call last)",
      "\u001b[1;32m<ipython-input-7-0330c58645a3>\u001b[0m in \u001b[0;36m<module>\u001b[1;34m\u001b[0m\n\u001b[0;32m      1\u001b[0m \u001b[1;31m#run the column through the normalizing function\u001b[0m\u001b[1;33m\u001b[0m\u001b[1;33m\u001b[0m\u001b[1;33m\u001b[0m\u001b[0m\n\u001b[0;32m      2\u001b[0m \u001b[0mdf_train\u001b[0m\u001b[1;33m[\u001b[0m\u001b[1;34m\"Plot\"\u001b[0m\u001b[1;33m]\u001b[0m \u001b[1;33m=\u001b[0m \u001b[0mdf_train\u001b[0m\u001b[1;33m[\u001b[0m\u001b[1;34m\"Plot\"\u001b[0m\u001b[1;33m]\u001b[0m\u001b[1;33m.\u001b[0m\u001b[0mapply\u001b[0m\u001b[1;33m(\u001b[0m\u001b[0mnormalizeText\u001b[0m\u001b[1;33m)\u001b[0m\u001b[1;33m\u001b[0m\u001b[1;33m\u001b[0m\u001b[0m\n\u001b[1;32m----> 3\u001b[1;33m \u001b[0mdf_test\u001b[0m\u001b[1;33m[\u001b[0m\u001b[1;34m\"Plot\"\u001b[0m\u001b[1;33m]\u001b[0m \u001b[1;33m=\u001b[0m \u001b[0mdf_test\u001b[0m\u001b[1;33m[\u001b[0m\u001b[1;34m\"Plot\"\u001b[0m\u001b[1;33m]\u001b[0m\u001b[1;33m.\u001b[0m\u001b[0mapply\u001b[0m\u001b[1;33m(\u001b[0m\u001b[0mnormalizeText\u001b[0m\u001b[1;33m)\u001b[0m\u001b[1;33m\u001b[0m\u001b[1;33m\u001b[0m\u001b[0m\n\u001b[0m",
      "\u001b[1;32m~\\Anaconda3\\lib\\site-packages\\pandas\\core\\series.py\u001b[0m in \u001b[0;36mapply\u001b[1;34m(self, func, convert_dtype, args, **kwds)\u001b[0m\n\u001b[0;32m   4040\u001b[0m             \u001b[1;32melse\u001b[0m\u001b[1;33m:\u001b[0m\u001b[1;33m\u001b[0m\u001b[1;33m\u001b[0m\u001b[0m\n\u001b[0;32m   4041\u001b[0m                 \u001b[0mvalues\u001b[0m \u001b[1;33m=\u001b[0m \u001b[0mself\u001b[0m\u001b[1;33m.\u001b[0m\u001b[0mastype\u001b[0m\u001b[1;33m(\u001b[0m\u001b[0mobject\u001b[0m\u001b[1;33m)\u001b[0m\u001b[1;33m.\u001b[0m\u001b[0mvalues\u001b[0m\u001b[1;33m\u001b[0m\u001b[1;33m\u001b[0m\u001b[0m\n\u001b[1;32m-> 4042\u001b[1;33m                 \u001b[0mmapped\u001b[0m \u001b[1;33m=\u001b[0m \u001b[0mlib\u001b[0m\u001b[1;33m.\u001b[0m\u001b[0mmap_infer\u001b[0m\u001b[1;33m(\u001b[0m\u001b[0mvalues\u001b[0m\u001b[1;33m,\u001b[0m \u001b[0mf\u001b[0m\u001b[1;33m,\u001b[0m \u001b[0mconvert\u001b[0m\u001b[1;33m=\u001b[0m\u001b[0mconvert_dtype\u001b[0m\u001b[1;33m)\u001b[0m\u001b[1;33m\u001b[0m\u001b[1;33m\u001b[0m\u001b[0m\n\u001b[0m\u001b[0;32m   4043\u001b[0m \u001b[1;33m\u001b[0m\u001b[0m\n\u001b[0;32m   4044\u001b[0m         \u001b[1;32mif\u001b[0m \u001b[0mlen\u001b[0m\u001b[1;33m(\u001b[0m\u001b[0mmapped\u001b[0m\u001b[1;33m)\u001b[0m \u001b[1;32mand\u001b[0m \u001b[0misinstance\u001b[0m\u001b[1;33m(\u001b[0m\u001b[0mmapped\u001b[0m\u001b[1;33m[\u001b[0m\u001b[1;36m0\u001b[0m\u001b[1;33m]\u001b[0m\u001b[1;33m,\u001b[0m \u001b[0mSeries\u001b[0m\u001b[1;33m)\u001b[0m\u001b[1;33m:\u001b[0m\u001b[1;33m\u001b[0m\u001b[1;33m\u001b[0m\u001b[0m\n",
      "\u001b[1;32mpandas\\_libs\\lib.pyx\u001b[0m in \u001b[0;36mpandas._libs.lib.map_infer\u001b[1;34m()\u001b[0m\n",
      "\u001b[1;32m<ipython-input-6-f4700780bc4f>\u001b[0m in \u001b[0;36mnormalizeText\u001b[1;34m(row)\u001b[0m\n\u001b[0;32m     34\u001b[0m     \u001b[1;31m# lemmatization step played -> play\u001b[0m\u001b[1;33m\u001b[0m\u001b[1;33m\u001b[0m\u001b[1;33m\u001b[0m\u001b[0m\n\u001b[0;32m     35\u001b[0m     \u001b[0mlemmatizer\u001b[0m \u001b[1;33m=\u001b[0m \u001b[0mWordNetLemmatizer\u001b[0m\u001b[1;33m(\u001b[0m\u001b[1;33m)\u001b[0m\u001b[1;33m\u001b[0m\u001b[1;33m\u001b[0m\u001b[0m\n\u001b[1;32m---> 36\u001b[1;33m     \u001b[0mrow\u001b[0m \u001b[1;33m=\u001b[0m \u001b[1;34m' '\u001b[0m\u001b[1;33m.\u001b[0m\u001b[0mjoin\u001b[0m\u001b[1;33m(\u001b[0m\u001b[1;33m[\u001b[0m\u001b[0mlemmatizer\u001b[0m\u001b[1;33m.\u001b[0m\u001b[0mlemmatize\u001b[0m\u001b[1;33m(\u001b[0m\u001b[0mw\u001b[0m\u001b[1;33m,\u001b[0m \u001b[0mget_wordnet_pos\u001b[0m\u001b[1;33m(\u001b[0m\u001b[0mw\u001b[0m\u001b[1;33m)\u001b[0m\u001b[1;33m)\u001b[0m \u001b[1;32mfor\u001b[0m \u001b[0mw\u001b[0m \u001b[1;32min\u001b[0m \u001b[0mnltk\u001b[0m\u001b[1;33m.\u001b[0m\u001b[0mword_tokenize\u001b[0m\u001b[1;33m(\u001b[0m\u001b[0mrow\u001b[0m\u001b[1;33m)\u001b[0m\u001b[1;33m]\u001b[0m\u001b[1;33m)\u001b[0m\u001b[1;33m\u001b[0m\u001b[1;33m\u001b[0m\u001b[0m\n\u001b[0m\u001b[0;32m     37\u001b[0m \u001b[1;33m\u001b[0m\u001b[0m\n\u001b[0;32m     38\u001b[0m     \u001b[1;31m#remove stop words such as \"a\", \"the\", \"is\"\u001b[0m\u001b[1;33m\u001b[0m\u001b[1;33m\u001b[0m\u001b[1;33m\u001b[0m\u001b[0m\n",
      "\u001b[1;32m<ipython-input-6-f4700780bc4f>\u001b[0m in \u001b[0;36m<listcomp>\u001b[1;34m(.0)\u001b[0m\n\u001b[0;32m     34\u001b[0m     \u001b[1;31m# lemmatization step played -> play\u001b[0m\u001b[1;33m\u001b[0m\u001b[1;33m\u001b[0m\u001b[1;33m\u001b[0m\u001b[0m\n\u001b[0;32m     35\u001b[0m     \u001b[0mlemmatizer\u001b[0m \u001b[1;33m=\u001b[0m \u001b[0mWordNetLemmatizer\u001b[0m\u001b[1;33m(\u001b[0m\u001b[1;33m)\u001b[0m\u001b[1;33m\u001b[0m\u001b[1;33m\u001b[0m\u001b[0m\n\u001b[1;32m---> 36\u001b[1;33m     \u001b[0mrow\u001b[0m \u001b[1;33m=\u001b[0m \u001b[1;34m' '\u001b[0m\u001b[1;33m.\u001b[0m\u001b[0mjoin\u001b[0m\u001b[1;33m(\u001b[0m\u001b[1;33m[\u001b[0m\u001b[0mlemmatizer\u001b[0m\u001b[1;33m.\u001b[0m\u001b[0mlemmatize\u001b[0m\u001b[1;33m(\u001b[0m\u001b[0mw\u001b[0m\u001b[1;33m,\u001b[0m \u001b[0mget_wordnet_pos\u001b[0m\u001b[1;33m(\u001b[0m\u001b[0mw\u001b[0m\u001b[1;33m)\u001b[0m\u001b[1;33m)\u001b[0m \u001b[1;32mfor\u001b[0m \u001b[0mw\u001b[0m \u001b[1;32min\u001b[0m \u001b[0mnltk\u001b[0m\u001b[1;33m.\u001b[0m\u001b[0mword_tokenize\u001b[0m\u001b[1;33m(\u001b[0m\u001b[0mrow\u001b[0m\u001b[1;33m)\u001b[0m\u001b[1;33m]\u001b[0m\u001b[1;33m)\u001b[0m\u001b[1;33m\u001b[0m\u001b[1;33m\u001b[0m\u001b[0m\n\u001b[0m\u001b[0;32m     37\u001b[0m \u001b[1;33m\u001b[0m\u001b[0m\n\u001b[0;32m     38\u001b[0m     \u001b[1;31m#remove stop words such as \"a\", \"the\", \"is\"\u001b[0m\u001b[1;33m\u001b[0m\u001b[1;33m\u001b[0m\u001b[1;33m\u001b[0m\u001b[0m\n",
      "\u001b[1;32m<ipython-input-5-166b1d8b5423>\u001b[0m in \u001b[0;36mget_wordnet_pos\u001b[1;34m(word)\u001b[0m\n\u001b[0;32m      2\u001b[0m \u001b[1;32mdef\u001b[0m \u001b[0mget_wordnet_pos\u001b[0m\u001b[1;33m(\u001b[0m\u001b[0mword\u001b[0m\u001b[1;33m)\u001b[0m\u001b[1;33m:\u001b[0m\u001b[1;33m\u001b[0m\u001b[1;33m\u001b[0m\u001b[0m\n\u001b[0;32m      3\u001b[0m     \u001b[1;34m\"\"\"Map POS tag to first character lemmatize() accepts\"\"\"\u001b[0m\u001b[1;33m\u001b[0m\u001b[1;33m\u001b[0m\u001b[0m\n\u001b[1;32m----> 4\u001b[1;33m     \u001b[0mtag\u001b[0m \u001b[1;33m=\u001b[0m \u001b[0mnltk\u001b[0m\u001b[1;33m.\u001b[0m\u001b[0mpos_tag\u001b[0m\u001b[1;33m(\u001b[0m\u001b[1;33m[\u001b[0m\u001b[0mword\u001b[0m\u001b[1;33m]\u001b[0m\u001b[1;33m)\u001b[0m\u001b[1;33m[\u001b[0m\u001b[1;36m0\u001b[0m\u001b[1;33m]\u001b[0m\u001b[1;33m[\u001b[0m\u001b[1;36m1\u001b[0m\u001b[1;33m]\u001b[0m\u001b[1;33m[\u001b[0m\u001b[1;36m0\u001b[0m\u001b[1;33m]\u001b[0m\u001b[1;33m.\u001b[0m\u001b[0mupper\u001b[0m\u001b[1;33m(\u001b[0m\u001b[1;33m)\u001b[0m\u001b[1;33m\u001b[0m\u001b[1;33m\u001b[0m\u001b[0m\n\u001b[0m\u001b[0;32m      5\u001b[0m     tag_dict = {\"J\": wordnet.ADJ,\n\u001b[0;32m      6\u001b[0m                 \u001b[1;34m\"N\"\u001b[0m\u001b[1;33m:\u001b[0m \u001b[0mwordnet\u001b[0m\u001b[1;33m.\u001b[0m\u001b[0mNOUN\u001b[0m\u001b[1;33m,\u001b[0m\u001b[1;33m\u001b[0m\u001b[1;33m\u001b[0m\u001b[0m\n",
      "\u001b[1;32m~\\Anaconda3\\lib\\site-packages\\nltk\\tag\\__init__.py\u001b[0m in \u001b[0;36mpos_tag\u001b[1;34m(tokens, tagset, lang)\u001b[0m\n\u001b[0;32m    159\u001b[0m     \u001b[1;33m:\u001b[0m\u001b[0mrtype\u001b[0m\u001b[1;33m:\u001b[0m \u001b[0mlist\u001b[0m\u001b[1;33m(\u001b[0m\u001b[0mtuple\u001b[0m\u001b[1;33m(\u001b[0m\u001b[0mstr\u001b[0m\u001b[1;33m,\u001b[0m \u001b[0mstr\u001b[0m\u001b[1;33m)\u001b[0m\u001b[1;33m)\u001b[0m\u001b[1;33m\u001b[0m\u001b[1;33m\u001b[0m\u001b[0m\n\u001b[0;32m    160\u001b[0m     \"\"\"\n\u001b[1;32m--> 161\u001b[1;33m     \u001b[0mtagger\u001b[0m \u001b[1;33m=\u001b[0m \u001b[0m_get_tagger\u001b[0m\u001b[1;33m(\u001b[0m\u001b[0mlang\u001b[0m\u001b[1;33m)\u001b[0m\u001b[1;33m\u001b[0m\u001b[1;33m\u001b[0m\u001b[0m\n\u001b[0m\u001b[0;32m    162\u001b[0m     \u001b[1;32mreturn\u001b[0m \u001b[0m_pos_tag\u001b[0m\u001b[1;33m(\u001b[0m\u001b[0mtokens\u001b[0m\u001b[1;33m,\u001b[0m \u001b[0mtagset\u001b[0m\u001b[1;33m,\u001b[0m \u001b[0mtagger\u001b[0m\u001b[1;33m,\u001b[0m \u001b[0mlang\u001b[0m\u001b[1;33m)\u001b[0m\u001b[1;33m\u001b[0m\u001b[1;33m\u001b[0m\u001b[0m\n\u001b[0;32m    163\u001b[0m \u001b[1;33m\u001b[0m\u001b[0m\n",
      "\u001b[1;32m~\\Anaconda3\\lib\\site-packages\\nltk\\tag\\__init__.py\u001b[0m in \u001b[0;36m_get_tagger\u001b[1;34m(lang)\u001b[0m\n\u001b[0;32m    105\u001b[0m         \u001b[0mtagger\u001b[0m\u001b[1;33m.\u001b[0m\u001b[0mload\u001b[0m\u001b[1;33m(\u001b[0m\u001b[0map_russian_model_loc\u001b[0m\u001b[1;33m)\u001b[0m\u001b[1;33m\u001b[0m\u001b[1;33m\u001b[0m\u001b[0m\n\u001b[0;32m    106\u001b[0m     \u001b[1;32melse\u001b[0m\u001b[1;33m:\u001b[0m\u001b[1;33m\u001b[0m\u001b[1;33m\u001b[0m\u001b[0m\n\u001b[1;32m--> 107\u001b[1;33m         \u001b[0mtagger\u001b[0m \u001b[1;33m=\u001b[0m \u001b[0mPerceptronTagger\u001b[0m\u001b[1;33m(\u001b[0m\u001b[1;33m)\u001b[0m\u001b[1;33m\u001b[0m\u001b[1;33m\u001b[0m\u001b[0m\n\u001b[0m\u001b[0;32m    108\u001b[0m     \u001b[1;32mreturn\u001b[0m \u001b[0mtagger\u001b[0m\u001b[1;33m\u001b[0m\u001b[1;33m\u001b[0m\u001b[0m\n\u001b[0;32m    109\u001b[0m \u001b[1;33m\u001b[0m\u001b[0m\n",
      "\u001b[1;32m~\\Anaconda3\\lib\\site-packages\\nltk\\tag\\perceptron.py\u001b[0m in \u001b[0;36m__init__\u001b[1;34m(self, load)\u001b[0m\n\u001b[0;32m    160\u001b[0m         \u001b[1;32mif\u001b[0m \u001b[0mload\u001b[0m\u001b[1;33m:\u001b[0m\u001b[1;33m\u001b[0m\u001b[1;33m\u001b[0m\u001b[0m\n\u001b[0;32m    161\u001b[0m             AP_MODEL_LOC = 'file:' + str(\n\u001b[1;32m--> 162\u001b[1;33m                 \u001b[0mfind\u001b[0m\u001b[1;33m(\u001b[0m\u001b[1;34m'taggers/averaged_perceptron_tagger/'\u001b[0m \u001b[1;33m+\u001b[0m \u001b[0mPICKLE\u001b[0m\u001b[1;33m)\u001b[0m\u001b[1;33m\u001b[0m\u001b[1;33m\u001b[0m\u001b[0m\n\u001b[0m\u001b[0;32m    163\u001b[0m             )\n\u001b[0;32m    164\u001b[0m             \u001b[0mself\u001b[0m\u001b[1;33m.\u001b[0m\u001b[0mload\u001b[0m\u001b[1;33m(\u001b[0m\u001b[0mAP_MODEL_LOC\u001b[0m\u001b[1;33m)\u001b[0m\u001b[1;33m\u001b[0m\u001b[1;33m\u001b[0m\u001b[0m\n",
      "\u001b[1;32m~\\Anaconda3\\lib\\site-packages\\nltk\\data.py\u001b[0m in \u001b[0;36mfind\u001b[1;34m(resource_name, paths)\u001b[0m\n\u001b[0;32m    649\u001b[0m             \u001b[1;32mif\u001b[0m \u001b[0mzipfile\u001b[0m \u001b[1;32mis\u001b[0m \u001b[1;32mNone\u001b[0m\u001b[1;33m:\u001b[0m\u001b[1;33m\u001b[0m\u001b[1;33m\u001b[0m\u001b[0m\n\u001b[0;32m    650\u001b[0m                 \u001b[0mp\u001b[0m \u001b[1;33m=\u001b[0m \u001b[0mos\u001b[0m\u001b[1;33m.\u001b[0m\u001b[0mpath\u001b[0m\u001b[1;33m.\u001b[0m\u001b[0mjoin\u001b[0m\u001b[1;33m(\u001b[0m\u001b[0mpath_\u001b[0m\u001b[1;33m,\u001b[0m \u001b[0murl2pathname\u001b[0m\u001b[1;33m(\u001b[0m\u001b[0mresource_name\u001b[0m\u001b[1;33m)\u001b[0m\u001b[1;33m)\u001b[0m\u001b[1;33m\u001b[0m\u001b[1;33m\u001b[0m\u001b[0m\n\u001b[1;32m--> 651\u001b[1;33m                 \u001b[1;32mif\u001b[0m \u001b[0mos\u001b[0m\u001b[1;33m.\u001b[0m\u001b[0mpath\u001b[0m\u001b[1;33m.\u001b[0m\u001b[0mexists\u001b[0m\u001b[1;33m(\u001b[0m\u001b[0mp\u001b[0m\u001b[1;33m)\u001b[0m\u001b[1;33m:\u001b[0m\u001b[1;33m\u001b[0m\u001b[1;33m\u001b[0m\u001b[0m\n\u001b[0m\u001b[0;32m    652\u001b[0m                     \u001b[1;32mif\u001b[0m \u001b[0mp\u001b[0m\u001b[1;33m.\u001b[0m\u001b[0mendswith\u001b[0m\u001b[1;33m(\u001b[0m\u001b[1;34m'.gz'\u001b[0m\u001b[1;33m)\u001b[0m\u001b[1;33m:\u001b[0m\u001b[1;33m\u001b[0m\u001b[1;33m\u001b[0m\u001b[0m\n\u001b[0;32m    653\u001b[0m                         \u001b[1;32mreturn\u001b[0m \u001b[0mGzipFileSystemPathPointer\u001b[0m\u001b[1;33m(\u001b[0m\u001b[0mp\u001b[0m\u001b[1;33m)\u001b[0m\u001b[1;33m\u001b[0m\u001b[1;33m\u001b[0m\u001b[0m\n",
      "\u001b[1;32m~\\Anaconda3\\lib\\genericpath.py\u001b[0m in \u001b[0;36mexists\u001b[1;34m(path)\u001b[0m\n\u001b[0;32m     17\u001b[0m     \u001b[1;34m\"\"\"Test whether a path exists.  Returns False for broken symbolic links\"\"\"\u001b[0m\u001b[1;33m\u001b[0m\u001b[1;33m\u001b[0m\u001b[0m\n\u001b[0;32m     18\u001b[0m     \u001b[1;32mtry\u001b[0m\u001b[1;33m:\u001b[0m\u001b[1;33m\u001b[0m\u001b[1;33m\u001b[0m\u001b[0m\n\u001b[1;32m---> 19\u001b[1;33m         \u001b[0mos\u001b[0m\u001b[1;33m.\u001b[0m\u001b[0mstat\u001b[0m\u001b[1;33m(\u001b[0m\u001b[0mpath\u001b[0m\u001b[1;33m)\u001b[0m\u001b[1;33m\u001b[0m\u001b[1;33m\u001b[0m\u001b[0m\n\u001b[0m\u001b[0;32m     20\u001b[0m     \u001b[1;32mexcept\u001b[0m \u001b[0mOSError\u001b[0m\u001b[1;33m:\u001b[0m\u001b[1;33m\u001b[0m\u001b[1;33m\u001b[0m\u001b[0m\n\u001b[0;32m     21\u001b[0m         \u001b[1;32mreturn\u001b[0m \u001b[1;32mFalse\u001b[0m\u001b[1;33m\u001b[0m\u001b[1;33m\u001b[0m\u001b[0m\n",
      "\u001b[1;31mKeyboardInterrupt\u001b[0m: "
     ]
    }
   ],
 
   "source": [
    "#run the column through the normalizing function\n",
    "df_train[\"Plot\"] = df_train[\"Plot\"].apply(normalizeText)\n",
    "df_test[\"Plot\"] = df_test[\"Plot\"].apply(normalizeText) "
 

   ]
  },
  {
   "cell_type": "code",
   "execution_count": null,
   "metadata": {},
   "outputs": [],
   "source": [
    "#Creating dataframes with just the plot, and genre of the test and training data\n",
    "\n",
    "#need to randomize before splitting\n",
    "df_train = df_train.sample(frac=1)\n",
    "df_trian = df_train.reset_index(drop=True)\n",
    "df_test = df_test.sample(frac=1)\n",
    "df_test = df_test.reset_index(drop=True)\n",
    "\n",
    "#Setting columns to individual datframes\n",
    "train_plot = df_train['Plot']\n",
    "train_genre = df_train['Genre']\n",
    "test_plot = df_test['Plot']\n",
    "test_genre = df_test['Genre']"
 
   ]
  },
  {
   "cell_type": "code",
 
   "execution_count": 10,
   "metadata": {},
   "outputs": [],
   "source": [
    "# print most common words in df\n",
    "def wordFrequency(x, terms = 30): \n",
    "    all_words = ' '.join([text for text in x]) \n",
    "    all_words = all_words.split() \n",
    "    fdist = nltk.FreqDist(all_words) \n",
    "    words_df = pd.DataFrame({'word':list(fdist.keys()), 'count':list(fdist.values())}) \n",
    "  \n",
    "    # selecting top 20 most frequent words \n",
    "    d = words_df.nlargest(columns=\"count\", n = terms) \n",
    "  \n",
    "    # visualize words and frequencies\n",
    "    plt.figure(figsize=(12,15)) \n",
    "    ax = sns.barplot(data=d, x= \"count\", y = \"word\") \n",
    "    ax.set(ylabel = 'Word') \n",
    "    plt.title(\"Most Frequent Words\")\n",
    "    plt.show()\n",
    "  \n"
   ]
  },
  {
   "cell_type": "code",
   "execution_count": 11,

   "execution_count": null,
 
   "metadata": {
    "scrolled": false
   },
   "outputs": [
    {
     "data": {
      "image/png": "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\n",
      "text/plain": [
       "<Figure size 864x1080 with 1 Axes>"
      ]
     },
     "metadata": {
      "needs_background": "light"
     },
     "output_type": "display_data"
    }
   ],
   "source": [
    "wordFrequency(df_train['Plot'], 100)"
   ]
  },
  {
   "cell_type": "code",
   "execution_count": 32,
   "metadata": {},
   "outputs": [],
   "source": [
    "#Creating dataframes with just the plot, and genre of the test and training data\n",
    "\n",
    "#need to randomize before splitting\n",
    "df_train = df_train.sample(frac=1)\n",
    "df_trian = df_train.reset_index(drop=True)\n",
    "df_test = df_test.sample(frac=1)\n",
    "df_test = df_test.reset_index(drop=True)\n",
    "\n",
    "#Setting columns to individual dataframes\n",
    "train_x = df_train['Plot']\n",
    "train_y = df_train['Genre']\n",
    "test_x = df_test['Plot']\n",
    "test_y = df_test['Genre']\n",
    "\n",
    "#Prabesh being stupid\n",
    "#label encoding\n",
    "encoder = preprocessing.LabelEncoder()\n",
    "train_y = encoder.fit_transform(train_y)\n",
    "test_y = encoder.fit_transform(test_y)"
   ]
  },
  {
   "cell_type": "code",
   "execution_count": 13,
   "metadata": {},
   "outputs": [],
   "source": [
    "######################################################################################\n",
    "# this was for having multi labelled genres, will look at it tomorrow morning "
   ]
  },
  {
   "cell_type": "code",
   "execution_count": 14,
   "metadata": {},
   "outputs": [],
   "source": [
    "#Prabesh being stupid <comment>\n",
    "#why do we need this??\n",
    "\n",
    "# run normalise function on df_all\n",
    "#df_all[\"Plot\"] = df_all[\"Plot\"].apply(normalizeText) "
   ]
  },
  {
   "cell_type": "code",
   "execution_count": 15,
   "metadata": {},
   "outputs": [],
   "source": [
    "# Multi label binarisation for multiple genre classification\n",
    "\n",
    "mlb = MultiLabelBinarizer()\n",
    "mlb.fit(df_all['Genre'])\n",
    "y = mlb.transform(df_all['Genre'])"
   ]
  },
  {
   "cell_type": "code",
 
   "execution_count": 37,
   "metadata": {},
   "outputs": [
    {
     "data": {
      "text/plain": [
       "<gensim.models.word2vec.Word2Vec at 0x7f3658839a58>"
      ]
     },
     "execution_count": 37,
     "metadata": {},
     "output_type": "execute_result"
    }
   ],
   "source": [
    "# Perform tfidf vectorisation on data\n",
    "tfidf_vec = TfidfVectorizer()\n",
    "train_x_tfidf = tfidf_vec.fit_transform(train_x)\n",
    "test_x_tfidf = tfidf_vec.transform(test_x)\n",
    "\n",
    "#prabesh being super studpi\n",
    "model = gensim.models.Word2Vec(train_x, size =100) \n",
    "test_x_w2v = gensim.models.Word2Vec(test_x, size = 100) \n",
    "test_x_w2v\n",
    "\n",
    "#prabesh being stupid  <comment>\n",
    "#why do we need this??\n",
    "#train_y_tfidf = tfidf_vec.fit_transform(train_y)\n",
    "#test_y_tfidf = tfidf_vec.transform(test_y)"
   ]
  },
  {
   "cell_type": "code",
   "execution_count": 17,
   "metadata": {},
   "outputs": [],
   "source": [
    "#Prabesh Being stupid < comment>\n",
    "#want to know what's happening here but can't undersand\n",
    "#I did log reg in bottom cell. did i do everything you were doing here??\n",
    "#also what's hamming loss and do we need that??\n",
    "# also your log reg did better than mine sowhat did you do?? OR maybe not? whats grid search doing??\n",
    " \n",
    "\n",
    "#Grid Search to find the best parameters \n",
    "#classifier = OneVsRestClassifier(SGDClassifier(loss=\"log\", penalty=\"l2\", class_weight=\"balanced\"))\n",
    "#parameters = { \"estimator__alpha\": [10**-5, 10**-4, 10**-3, 10**-2, 10**-1, 10**0] }\n",
    "\n",
    "#gsv = GridSearchCV(classifier, param_grid=parameters, scoring=\"f1_micro\", n_jobs=-1)\n",
    "#gsv.fit(train_x_tfidf, train_y_tfidf)\n",
    "\n",
    "#print(gsv.best_score_)\n",
    "#print(gsv.best_params_)\n",
    "#best_alpha = gsv.best_params_['estimator__alpha']"
   ]
  },
  {
   "cell_type": "code",
   "execution_count": 18,
   "metadata": {},
   "outputs": [],
   "source": [
    "#PRabesh being studip <comment> \n",
    "\n",
    "# Use OneVsRest Classifier with logistic regression as loss function\n",
    "#classifier = OneVsRestClassifier(SGDClassifier(loss=\"squared_loss\", alpha=best_alpha, penalty=\"l2\", class_weight=\"balanced\"))\n",
    "#classifier.fit(train_x_tfidf, train_y_tfidf)\n",
    "#y_pred = classifier.predict(test_x_tfidf)\n",
    "\n",
    "#print(\"Accuracy:\", metrics.accuracy_score(test_y_tfidf, y_pred))\n",
    "#print(\"Hamming Loss (number of incorrect labels):\", \n",
    "#      metrics.hamming_loss(test_y_tfidf, y_pred))\n"
   ]
  },
  {
   "cell_type": "code",
   "execution_count": 19,
   "metadata": {},
   "outputs": [],
   "source": [
    "#model builder\n",
    "def train_model(classifier, feature_vector_train, label, feature_vector_valid):\n",
    "    \n",
    "    # fit the training dataset on the classifier\n",
    "    classifier.fit(feature_vector_train, label)\n",
    "    \n",
    "    # predict the labels on validation dataset\n",
    "    predictions = classifier.predict(feature_vector_valid)\n",
    "    \n",
    "    return metrics.accuracy_score(predictions, test_y)"
   ]
  },
  {
   "cell_type": "code",
   "execution_count": 39,
   "metadata": {
    "scrolled": true
   },
   "outputs": [
    {
     "name": "stdout",
     "output_type": "stream",
     "text": [
      "NB TF-IDF:  0.44493494423791824\n"
     ]
    }
   ],
   "source": [
    "# Naive Bayes on TF IDF Vectors\n",
    "accuracy = train_model(naive_bayes.MultinomialNB(), train_x_tfidf, train_y, test_x_tfidf)\n",
    "print(\"NB TF-IDF: \", accuracy)\n",
    "\n",
    "# # Naive Bayes on W2V\n",
    "#accuracy = train_model(naive_bayes.MultinomialNB(), train_x_w2v, train_y, test_x_w2v)\n",
    "#print(\"NB W2V: \", accuracy)"
   ]
  },
  {
   "cell_type": "code",
   "execution_count": 21,
   "metadata": {},
   "outputs": [
    {
     "name": "stdout",
     "output_type": "stream",
     "text": [
      "LR TF-IDF:  0.4785083643122677\n"
     ]
    }
   ],
   "source": [
    "# Logistic Regression on TF IDF Vectors\n",
    "accuracy = train_model(linear_model.LogisticRegression(), train_x_tfidf, train_y, test_x_tfidf)\n",
    "print(\"LR TF-IDF: \", accuracy)"
   ]
  },
  {
   "cell_type": "code",
   "execution_count": 22,
   "metadata": {},
   "outputs": [
    {
     "name": "stdout",
     "output_type": "stream",
     "text": [
      "SVM-linear TF-IDF :  0.5010455390334573\n"
     ]
    }
   ],
   "source": [
    "# Vaniallia SVM on TF IDF Vectors\n",
    "accuracy = train_model(svm.SVC(kernel='linear'), train_x_tfidf, train_y, test_x_tfidf)\n",
    "print(\"SVM-linear TF-IDF : \", accuracy)"
   ]
  },
  {
   "cell_type": "code",
   "execution_count": 23,
   "metadata": {},
   "outputs": [
    {
     "name": "stdout",
     "output_type": "stream",
     "text": [
      "SVM-rbf TF-IDF :  0.6847118959107806\n"
     ]
    }
   ],
   "source": [
    "#SVM radial basis function kernel on TF IDF Vector\n",
    "accuracy = train_model(svm.SVC(kernel='rbf'), train_x_tfidf, train_y, test_x_tfidf)\n",
    "print(\"SVM-rbf TF-IDF : \", accuracy)"
   ]
  },
  {
   "cell_type": "code",
   "execution_count": 24,
   "metadata": {},
   "outputs": [],
   "source": [
    "## Future work to use Deep learning algorithm such as CNN, RNN - LSTM\n",
    "\n",
    "# # transfer learning using Google BERT"
   ]
  },
  {
   "cell_type": "code",
   "execution_count": null,
   "metadata": {},
   "outputs": [],
   "source": []
  },
  {
   "cell_type": "code",
   "execution_count": null,
   "metadata": {},
   "outputs": [],
   "source": []

   "execution_count": null,
   "metadata": {},
   "outputs": [],
   "source": [
    "# test showing how it works on first 5 elements of df_HandC\n",
    "tfidfVec(dfToList(df_train.head()))\n"
   ]
 
  }
 ],
 "metadata": {
  "colab": {
   "collapsed_sections": [],
   "name": "COGS118B.ipynb",
   "provenance": []
  },
  "kernelspec": {
   "display_name": "Python 3",
   "language": "python",
   "name": "python3"
  },
  "language_info": {
   "codemirror_mode": {
    "name": "ipython",
    "version": 3
   },
   "file_extension": ".py",
   "mimetype": "text/x-python",
   "name": "python",
   "nbconvert_exporter": "python",
   "pygments_lexer": "ipython3",
 
   "version": "3.7.3"

   "version": "3.7.4"
 
  }
 },
 "nbformat": 4,
 "nbformat_minor": 1
}
