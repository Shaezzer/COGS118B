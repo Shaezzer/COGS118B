{
 "cells": [
  {
   "cell_type": "code",
   "execution_count": 1,
   "metadata": {
    "colab": {
     "base_uri": "https://localhost:8080/",
     "height": 68
    },
    "colab_type": "code",
    "id": "PEsbVd9tkqMY",
    "outputId": "e809fbd6-12a5-4ffd-9b7a-6c8e77b639bd"
   },
   "outputs": [
    {
     "name": "stderr",
     "output_type": "stream",
     "text": [
      "[nltk_data] Downloading package stopwords to\n",
      "[nltk_data]     C:\\Users\\cocoy\\AppData\\Roaming\\nltk_data...\n",
      "[nltk_data]   Package stopwords is already up-to-date!\n"
     ]
    },
    {
     "data": {
      "text/plain": [
       "True"
      ]
     },
     "execution_count": 1,
     "metadata": {},
     "output_type": "execute_result"
    }
   ],
   "source": [
    "import pandas as pd\n",
    "import random\n",
    "import numpy as np\n",
    "#!pip install nltk\n",
    "import nltk\n",
    "import string\n",
    "#nltk.download()\n",
    "#!pip install sklearn\n",
    "from sklearn.feature_extraction.text import TfidfVectorizer\n",
    "from string import punctuation\n",
    "#from nltk.corpus import stopwords\n",
    "nltk.download('stopwords')\n",
    "#from nltk.stem import WordNetLemmatizer \n",
    "#nltk.download('wordnet')"
   ]
  },
  {
   "cell_type": "code",
   "execution_count": 2,
   "metadata": {
    "colab": {},
    "colab_type": "code",
    "id": "Nuc24nwLI46K"
   },
   "outputs": [],
   "source": [
    "#Loading and Cleaning Data\n",
    "\n",
    "#load in the csv contatining the data\n",
    "df_original = pd.read_csv('wiki_movie_plots_deduped.csv')"
   ]
  },
  {
   "cell_type": "code",
   "execution_count": 3,
   "metadata": {
    "colab": {},
    "colab_type": "code",
    "id": "qpVQi0yQI9fy"
   },
   "outputs": [],
   "source": [
    "#drop all rows in the dataframe that do not contain horror(1167) in genre catergory\n",
    "df_horror=df_original.drop(df_original[df_original['Genre'] != 'horror'].index,inplace=False)\n",
    "#drop columns we wont need\n",
    "df_horror.drop(['Release Year','Origin/Ethnicity','Cast', 'Wiki Page','Director','Release Year'],axis=1, inplace = True)\n",
    "\n",
    "#reduce horror to 1000 rows\n",
    "df_horror=df_horror.sample(frac=1)\n",
    "df_horror=df_horror.reset_index(drop=True)\n",
    "df_horror_train=df_horror[0:1000]\n",
    "df_horror_test=df_horror[1000:1167]"
   ]
  },
  {
   "cell_type": "code",
   "execution_count": 4,
   "metadata": {
    "colab": {},
    "colab_type": "code",
    "id": "sAwh4SxaJF0s"
   },
   "outputs": [],
   "source": [
    "#drop all rows in dataframe that do not contain comedy(4379)\n",
    "df_comedy=df_original.drop(df_original[df_original['Genre'] != 'comedy'].index, inplace = False)\n",
    "df_comedy.drop(['Release Year','Origin/Ethnicity','Cast', 'Wiki Page','Director','Release Year'],axis=1, inplace = True)\n",
    "#reduce horror to 1000 rows\n",
    "df_comedy=df_comedy.sample(frac=1)\n",
    "df_comedy=df_comedy.reset_index(drop=True)\n",
    "df_comedy_train=df_comedy[0:1000]\n",
    "df_comedy_test=df_comedy[1000:len(df_comedy)]"
   ]
  },
  {
   "cell_type": "code",
   "execution_count": 5,
   "metadata": {
    "colab": {},
    "colab_type": "code",
    "id": "B4-RZfoyJUvr"
   },
   "outputs": [],
   "source": [
    "#merge the comedy and horror dataframes into one\n",
    "df_HandC=pd.concat([df_horror_test,df_comedy_test])\n",
    "\n",
    "#Pre punctuation parsing test\n",
    "#df_HandC.iloc[1002]['Plot']"
   ]
  },
  {
   "cell_type": "code",
   "execution_count": 6,
   "metadata": {
    "colab": {},
    "colab_type": "code",
    "id": "shQM5G5sMjJz"
   },
   "outputs": [],
   "source": [
    "#Function to get rid of punctuation\n",
    "def normalizeText(row):\n",
    "    #create a list of punctuations we wish to delete\n",
    "    punctuations = string.punctuation\n",
    "    #change all letters to lower case\n",
    "    row=row.lower()\n",
    "    #loop through each word and get rid of punctuation and \\r\\n that came with data\n",
    "    for x in row: \n",
    "        if x in punctuations: \n",
    "            row = row.replace(x, \"\")\n",
    "        row = row.replace('\\r\\n', '')\n",
    "    return row\n",
    "#run the column through the normalizing function\n",
    "df_HandC[\"Plot\"] = df_HandC[\"Plot\"].apply(normalizeText) "
   ]
  },
  {
   "cell_type": "code",
   "execution_count": 7,
   "metadata": {
    "colab": {},
    "colab_type": "code",
    "id": "iLdPVNgzN1Bx"
   },
   "outputs": [],
   "source": [
    "#Post Punctuation Parsing test\n",
    "#df_HandC.iloc[1002]['Plot']"
   ]
  },
  {
   "cell_type": "code",
   "execution_count": 8,
   "metadata": {
    "colab": {
     "base_uri": "https://localhost:8080/",
     "height": 136
    },
    "colab_type": "code",
    "id": "30Jx7UPDIMmN",
    "outputId": "18cdbc95-bf9a-4d30-e946-697c1ccdd068"
   },
   "outputs": [
    {
     "name": "stdout",
     "output_type": "stream",
     "text": [
      "[[1.         0.09913529 0.20150495 ... 0.15959985 0.10831577 0.04031809]\n",
      " [0.09913529 1.         0.08799101 ... 0.07258364 0.03701959 0.0157465 ]\n",
      " [0.20150495 0.08799101 1.         ... 0.13611337 0.08670981 0.04641494]\n",
      " ...\n",
      " [0.15959985 0.07258364 0.13611337 ... 1.         0.07771853 0.02571577]\n",
      " [0.10831577 0.03701959 0.08670981 ... 0.07771853 1.         0.01037378]\n",
      " [0.04031809 0.0157465  0.04641494 ... 0.02571577 0.01037378 1.        ]]\n"
     ]
    }
   ],
   "source": [
    "##Prabesh being stupid. might be helpful?\n",
    "\n",
    "vectorizer = TfidfVectorizer()\n",
    "tfidf = vectorizer.fit_transform(df_HandC['Plot'])\n",
    "#print similarity matrix\n",
    "print((tfidf*tfidf.T).A)\n"
   ]
  },
  {
   "cell_type": "code",
   "execution_count": 9,
   "metadata": {
    "colab": {
     "base_uri": "https://localhost:8080/",
     "height": 357
    },
    "colab_type": "code",
    "id": "mi03OFl7PJLW",
    "outputId": "f4ef8a43-3d52-4197-969c-4dbf456cbca6"
   },
   "outputs": [
    {
     "ename": "NameError",
     "evalue": "name 'stopwords' is not defined",
     "output_type": "error",
     "traceback": [
      "\u001b[1;31m---------------------------------------------------------------------------\u001b[0m",
      "\u001b[1;31mNameError\u001b[0m                                 Traceback (most recent call last)",
      "\u001b[1;32m<ipython-input-9-5875f91169dc>\u001b[0m in \u001b[0;36m<module>\u001b[1;34m\u001b[0m\n\u001b[0;32m      4\u001b[0m \u001b[0mwithout_punct\u001b[0m \u001b[1;33m=\u001b[0m \u001b[1;33m[\u001b[0m\u001b[0mw\u001b[0m \u001b[1;32mfor\u001b[0m \u001b[0mw\u001b[0m \u001b[1;32min\u001b[0m \u001b[0mdf_HandC\u001b[0m\u001b[1;33m[\u001b[0m\u001b[1;34m'Plot'\u001b[0m\u001b[1;33m]\u001b[0m \u001b[1;32mif\u001b[0m \u001b[0mw\u001b[0m \u001b[1;32mnot\u001b[0m \u001b[1;32min\u001b[0m \u001b[0mpunctuation\u001b[0m\u001b[1;33m]\u001b[0m\u001b[1;33m\u001b[0m\u001b[1;33m\u001b[0m\u001b[0m\n\u001b[0;32m      5\u001b[0m \u001b[1;31m#deleting stopwords like the/we/for\u001b[0m\u001b[1;33m\u001b[0m\u001b[1;33m\u001b[0m\u001b[1;33m\u001b[0m\u001b[0m\n\u001b[1;32m----> 6\u001b[1;33m \u001b[0msw\u001b[0m \u001b[1;33m=\u001b[0m \u001b[0mstopwords\u001b[0m\u001b[1;33m.\u001b[0m\u001b[0mwords\u001b[0m\u001b[1;33m(\u001b[0m\u001b[1;34m'english'\u001b[0m\u001b[1;33m)\u001b[0m\u001b[1;33m\u001b[0m\u001b[1;33m\u001b[0m\u001b[0m\n\u001b[0m\u001b[0;32m      7\u001b[0m \u001b[0mwithout_sw\u001b[0m \u001b[1;33m=\u001b[0m \u001b[1;33m[\u001b[0m\u001b[0mw\u001b[0m \u001b[1;32mfor\u001b[0m \u001b[0mw\u001b[0m \u001b[1;32min\u001b[0m \u001b[0mwithout_punct\u001b[0m \u001b[1;32mif\u001b[0m \u001b[0mw\u001b[0m \u001b[1;32mnot\u001b[0m \u001b[1;32min\u001b[0m \u001b[0msw\u001b[0m\u001b[1;33m]\u001b[0m\u001b[1;33m\u001b[0m\u001b[1;33m\u001b[0m\u001b[0m\n\u001b[0;32m      8\u001b[0m \u001b[1;31m#lemmatizing the plot summary\u001b[0m\u001b[1;33m\u001b[0m\u001b[1;33m\u001b[0m\u001b[1;33m\u001b[0m\u001b[0m\n",
      "\u001b[1;31mNameError\u001b[0m: name 'stopwords' is not defined"
     ]
    }
   ],
   "source": [
    "##Prabesh being stupid. might be helpful?\n",
    "\n",
    "#deleting the punctuation\n",
    "without_punct = [w for w in df_HandC['Plot'] if w not in punctuation]\n",
    "#deleting stopwords like the/we/for\n",
    "sw = stopwords.words('english')\n",
    "without_sw = [w for w in without_punct if w not in sw]\n",
    "#lemmatizing the plot summary\n",
    "wnl = WordNetLemmatizer()\n",
    "lemmatizedSummary = wnl.lemmatize(without_sw)\n",
    "\n"
   ]
  },
  {
   "cell_type": "code",
   "execution_count": null,
   "metadata": {},
   "outputs": [],
   "source": []
  }
 ],
 "metadata": {
  "colab": {
   "collapsed_sections": [],
   "name": "COGS118B.ipynb",
   "provenance": []
  },
  "kernelspec": {
   "display_name": "Python 3",
   "language": "python",
   "name": "python3"
  },
  "language_info": {
   "codemirror_mode": {
    "name": "ipython",
    "version": 3
   },
   "file_extension": ".py",
   "mimetype": "text/x-python",
   "name": "python",
   "nbconvert_exporter": "python",
   "pygments_lexer": "ipython3",
   "version": "3.7.4"
  }
 },
 "nbformat": 4,
 "nbformat_minor": 1
}
