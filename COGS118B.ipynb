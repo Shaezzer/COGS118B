{
 "cells": [
  {
   "cell_type": "code",
   "execution_count": 30,
   "metadata": {},
   "outputs": [
    {
     "name": "stderr",
     "output_type": "stream",
     "text": [
      "[nltk_data] Downloading package punkt to /home/ppokhare/nltk_data...\n",
      "[nltk_data]   Package punkt is already up-to-date!\n",
      "[nltk_data] Downloading package averaged_perceptron_tagger to\n",
      "[nltk_data]     /home/ppokhare/nltk_data...\n",
      "[nltk_data]   Package averaged_perceptron_tagger is already up-to-\n",
      "[nltk_data]       date!\n"
     ]
    }
   ],
   "source": [
    "import pandas as pd\n",
    "import random\n",
    "import numpy as np\n",
    "import nltk\n",
    "import string\n",
    "from sklearn.feature_extraction.text import TfidfVectorizer\n",
    "from string import punctuation\n",
    "from nltk.corpus import stopwords\n",
    "from nltk.corpus import wordnet\n",
    "from nltk.stem import WordNetLemmatizer \n",
    "from nltk.tokenize import word_tokenize\n",
    "import unicodedata\n",
    "#import inflect\n",
    "import re\n",
    "from itertools import chain\n",
    "#!pip install contractions\n",
    "#import contractions\n",
    "nltk.download('punkt')\n",
    "nltk.download('averaged_perceptron_tagger')\n",
    "import matplotlib.pyplot as plt\n",
    "from sklearn.preprocessing import MultiLabelBinarizer\n",
    "import seaborn as sns\n",
    "from sklearn.model_selection import GridSearchCV\n",
    "from sklearn.linear_model import SGDClassifier\n",
    "from sklearn import metrics\n",
    "\n",
    "#prabesh being stupid sunday morning\n",
    "from sklearn import model_selection, preprocessing, linear_model, naive_bayes, metrics, svm\n",
    "import gensim\n",
    "\n",
    "\n",
    "\n",
    "\n",
    "\n",
    "import warnings\n",
    "warnings.filterwarnings('ignore')"
   ]
  },
  {
   "cell_type": "code",
   "execution_count": 2,
   "metadata": {
    "colab": {},
    "colab_type": "code",
    "id": "Nuc24nwLI46K"
   },
   "outputs": [],
   "source": [
    "#load in the csv contatining the data\n",
    "df_original = pd.read_csv('wiki_movie_plots_deduped.csv')"
   ]
  },
  {
   "cell_type": "code",
   "execution_count": 3,
   "metadata": {},
   "outputs": [],
   "source": [
    "# drop unknown values and unneccessary columns\n",
    "df_all = df_original.drop(df_original[df_original['Genre'] == \"unknown\"].index, \n",
    "                          inplace = False)\n",
    "df_all = df_all.drop(['Release Year','Origin/Ethnicity','Cast', 'Wiki Page','Director',\n",
    "                      'Release Year'],axis=1,)"
   ]
  },
  {
   "cell_type": "code",
   "execution_count": 4,
   "metadata": {},
   "outputs": [],
   "source": [
    "#Function to create dataframes for each genre; using 1000 elements for training \n",
    "def dataframe_creator(genre):\n",
    "    genre = df_original.drop(df_original[df_original['Genre'] != genre].index, inplace = False)\n",
    "    #genre.drop(['Release Year','Origin/Ethnicity','Cast', 'Wiki Page','Director','Release Year'],axis=1, \n",
    "    #           inplace = True)\n",
    "    genre = genre.sample(frac=1)\n",
    "    genre = genre.reset_index(drop=True)\n",
    "    genre_train = genre[0:1000]\n",
    "    genre_test = genre[1000:len(genre)]\n",
    "    return (genre_train,genre_test)"
   ]
  },
  {
   "cell_type": "code",
   "execution_count": 6,
   "metadata": {},
   "outputs": [],
   "source": [
    "#List of Genres we want to run analysis on\n",
    "df_horror_train,df_horror_test = dataframe_creator('horror')\n",
    "df_comedy_train,df_comedy_test = dataframe_creator('comedy')\n",
    "df_drama_train, df_drama_test = dataframe_creator('drama')\n",
    "df_action_train,df_action_test = dataframe_creator('action')\n",
    "df_thriller_train,df_thriller_test = dataframe_creator('thriller')\n",
    "df_romance_train,df_romance_test = dataframe_creator('romance')\n",
    "df_western_train,df_western_test = dataframe_creator('western')\n",
    "\n",
    "\n",
    "#Creating dataframes for all genres for training\n",
    "df_train = pd.concat([df_horror_train,df_comedy_train, df_drama_train,df_action_train,df_thriller_train,df_romance_train,df_western_train])\n",
    "#df_train = pd.concat([df_horror_train,df_comedy_train,])\n",
    "\n",
    "#creating dataframes for all genres for testing\n",
    "df_test = pd.concat([df_horror_test,df_comedy_test, df_drama_test,df_action_test,df_thriller_test,df_romance_test,df_western_test])\n",
    "#df_test = pd.concat([df_horror_test,df_comedy_test])"
   ]
  },
  {
   "cell_type": "code",
   "execution_count": 803,
   "metadata": {},
   "outputs": [
    {
     "data": {
      "image/png": "[encoded data removed]",
      "text/plain": [
       "<Figure size 864x1080 with 1 Axes>"
      ]
     },
     "metadata": {
      "needs_background": "light"
     },
     "output_type": "display_data"
    }
   ],
   "source": [
    "# Most popular genres\n",
    "\n",
    "genres = []\n",
    "for g in df_all['Genre']:\n",
    "    genres.append(g)\n",
    "\n",
    "genres = nltk.FreqDist(genres) \n",
    "genres_df = pd.DataFrame({'Genre':list(genres.keys()), 'Count':list(genres.values())}) \n",
    "  \n",
    "d = genres_df.nlargest(columns=\"Count\", n = 20) \n",
    "plt.figure(figsize=(12,15)) \n",
    "ax = sns.barplot(data=d, x= \"Count\", y = \"Genre\") \n",
    "ax.set(ylabel = 'Genre') \n",
    "plt.title(\"20 Most Frequent Genres\")\n",
    "plt.show()"
   ]
  },
  {
   "cell_type": "code",
   "execution_count": 7,
   "metadata": {},
   "outputs": [],
   "source": [
    "# Check word type of a word\n",
    "def get_wordnet_pos(word):\n",
    "    tag = nltk.pos_tag([word])[0][1][0].upper()\n",
    "    tag_dict = {\"J\": wordnet.ADJ,\n",
    "                \"N\": wordnet.NOUN,\n",
    "                \"V\": wordnet.VERB,\n",
    "                \"R\": wordnet.ADV}\n",
    "\n",
    "    return tag_dict.get(tag, wordnet.NOUN)"
   ]
  },
  {
   "cell_type": "code",
   "execution_count": 8,
   "metadata": {},
   "outputs": [],
   "source": [
    "#Function for text pre-processing\n",
    "def normalizeText(row):\n",
    "    \n",
    "    #create a list of punctuations we wish to delete\n",
    "    punctuations = string.punctuation\n",
    "    #create a list of stopwords in English\n",
    "    stopWords = set(stopwords.words('english'))\n",
    "    \n",
    "    #change all letters to lower case\n",
    "    row = row.lower()  \n",
    "    \n",
    "    #remove numbers\n",
    "    row = re.sub(\" \\d+\", \" \", row)\n",
    "                 \n",
    "    #remove punctutation\n",
    "    for letter in row: \n",
    "    \n",
    "        if letter in punctuations: \n",
    "            row = row.replace(letter, \"\")\n",
    "    \n",
    "    #expand the contraction I'm -> I am\n",
    "    #row = contractions.fix(row)\n",
    "    # got it from (https://github.com/kootenpv/contractions)\n",
    "                \n",
    "    #remove accent char\n",
    "    row = unicodedata.normalize('NFKD', row).encode('ascii', 'ignore').decode('utf-8', 'ignore')\n",
    "                 \n",
    "    #remove extra whitespace convert into a word  \n",
    "    row = row.strip()\n",
    "    \n",
    "    # TOKENIZATION: process of splitting text into smaller piece called tokens.\n",
    "    tokens = word_tokenize(row)\n",
    "    \n",
    "    # lemmatization step played -> play\n",
    "    lemmatizer = WordNetLemmatizer()\n",
    "    row = ' '.join([lemmatizer.lemmatize(w, get_wordnet_pos(w)) for w in nltk.word_tokenize(row)])\n",
    "    \n",
    "    #remove stop words such as \"a\", \"the\", \"is\"\n",
    "    tokens = word_tokenize(row)\n",
    "    row = ' '.join([i for i in tokens if not i in stopWords])\n",
    "     \n",
    "    return row"
   ]
  },
  {
   "cell_type": "code",
   "execution_count": null,
   "metadata": {},
   "outputs": [],
   "source": [
    "# Word frequencies before normalisation\n",
    "wordFrequency(df_train['Plot'], 100)"
   ]
  },
  {
   "cell_type": "code",
   "execution_count": 9,
   "metadata": {
    "scrolled": true
   },
   "outputs": [],
   "source": [
    "#run the column through the normalizing function\n",
    "df_train[\"Plot\"] = df_train[\"Plot\"].apply(normalizeText)\n",
    "df_test[\"Plot\"] = df_test[\"Plot\"].apply(normalizeText) "
   ]
  },
  {
   "cell_type": "code",
   "execution_count": 10,
   "metadata": {},
   "outputs": [],
   "source": [
    "# print most common words in df\n",
    "def wordFrequency(x, terms = 30): \n",
    "    all_words = ' '.join([text for text in x]) \n",
    "    all_words = all_words.split() \n",
    "    fdist = nltk.FreqDist(all_words) \n",
    "    words_df = pd.DataFrame({'word':list(fdist.keys()), 'count':list(fdist.values())}) \n",
    "  \n",
    "    # selecting top 20 most frequent words \n",
    "    d = words_df.nlargest(columns=\"count\", n = terms) \n",
    "  \n",
    "    # visualize words and frequencies\n",
    "    plt.figure(figsize=(12,15)) \n",
    "    ax = sns.barplot(data=d, x= \"count\", y = \"word\") \n",
    "    ax.set(ylabel = 'Word') \n",
    "    plt.title(\"Most Frequent Words\")\n",
    "    plt.show()\n",
    "  \n"
   ]
  },
  {
   "cell_type": "code",
   "execution_count": 11,
   "metadata": {
    "scrolled": false
   },
   "outputs": [
    {
     "data": {
      "image/png": "[encoded data removed]",
      "text/plain": [
       "<Figure size 864x1080 with 1 Axes>"
      ]
     },
     "metadata": {
      "needs_background": "light"
     },
     "output_type": "display_data"
    }
   ],
   "source": [
    "# Word frequencies after normalisation\n",
    "wordFrequency(df_train['Plot'], 100)"
   ]
  },
  {
   "cell_type": "code",
   "execution_count": 32,
   "metadata": {},
   "outputs": [],
   "source": [
    "#Creating dataframes with just the plot, and genre of the test and training data\n",
    "\n",
    "#need to randomize before splitting\n",
    "df_train = df_train.sample(frac=1)\n",
    "df_trian = df_train.reset_index(drop=True)\n",
    "df_test = df_test.sample(frac=1)\n",
    "df_test = df_test.reset_index(drop=True)\n",
    "\n",
    "#Setting columns to individual dataframes\n",
    "train_x = df_train['Plot']\n",
    "train_y = df_train['Genre']\n",
    "test_x = df_test['Plot']\n",
    "test_y = df_test['Genre']\n",
    "\n",
    "#Prabesh being stupid\n",
    "#label encoding\n",
    "encoder = preprocessing.LabelEncoder()\n",
    "train_y = encoder.fit_transform(train_y)\n",
    "test_y = encoder.fit_transform(test_y)"
   ]
  },
  {
   "cell_type": "code",
   "execution_count": 13,
   "metadata": {},
   "outputs": [],
   "source": [
    "######################################################################################\n",
    "# this was for having multi labelled genres, will look at it tomorrow morning "
   ]
  },
  {
   "cell_type": "code",
   "execution_count": 14,
   "metadata": {},
   "outputs": [],
   "source": [
    "#Prabesh being stupid <comment>\n",
    "#why do we need this??\n",
    "\n",
    "# run normalise function on df_all\n",
    "#df_all[\"Plot\"] = df_all[\"Plot\"].apply(normalizeText) "
   ]
  },
  {
   "cell_type": "code",
   "execution_count": 15,
   "metadata": {},
   "outputs": [],
   "source": [
    "# Multi label binarisation for multiple genre classification\n",
    "\n",
    "mlb = MultiLabelBinarizer()\n",
    "mlb.fit(df_all['Genre'])\n",
    "y = mlb.transform(df_all['Genre'])"
   ]
  },
  {
   "cell_type": "code",
   "execution_count": 37,
   "metadata": {},
   "outputs": [
    {
     "data": {
      "text/plain": [
       "<gensim.models.word2vec.Word2Vec at 0x7f3658839a58>"
      ]
     },
     "execution_count": 37,
     "metadata": {},
     "output_type": "execute_result"
    }
   ],
   "source": [
    "# Perform tfidf vectorisation on data\n",
    "tfidf_vec = TfidfVectorizer()\n",
    "train_x_tfidf = tfidf_vec.fit_transform(train_x)\n",
    "test_x_tfidf = tfidf_vec.transform(test_x)\n",
    "\n",
    "#prabesh being super studpi\n",
    "model = gensim.models.Word2Vec(train_x, size =100) \n",
    "test_x_w2v = gensim.models.Word2Vec(test_x, size = 100) \n",
    "test_x_w2v\n",
    "\n",
    "#prabesh being stupid  <comment>\n",
    "#why do we need this??\n",
    "#train_y_tfidf = tfidf_vec.fit_transform(train_y)\n",
    "#test_y_tfidf = tfidf_vec.transform(test_y)"
   ]
  },
  {
   "cell_type": "code",
   "execution_count": 17,
   "metadata": {},
   "outputs": [],
   "source": [
    "#Prabesh Being stupid < comment>\n",
    "#want to know what's happening here but can't undersand\n",
    "#I did log reg in bottom cell. did i do everything you were doing here??\n",
    "#also what's hamming loss and do we need that??\n",
    "# also your log reg did better than mine sowhat did you do?? OR maybe not? whats grid search doing??\n",
    " \n",
    "\n",
    "#Grid Search to find the best parameters \n",
    "#classifier = OneVsRestClassifier(SGDClassifier(loss=\"log\", penalty=\"l2\", class_weight=\"balanced\"))\n",
    "#parameters = { \"estimator__alpha\": [10**-5, 10**-4, 10**-3, 10**-2, 10**-1, 10**0] }\n",
    "\n",
    "#gsv = GridSearchCV(classifier, param_grid=parameters, scoring=\"f1_micro\", n_jobs=-1)\n",
    "#gsv.fit(train_x_tfidf, train_y_tfidf)\n",
    "\n",
    "#print(gsv.best_score_)\n",
    "#print(gsv.best_params_)\n",
    "#best_alpha = gsv.best_params_['estimator__alpha']"
   ]
  },
  {
   "cell_type": "code",
   "execution_count": 18,
   "metadata": {},
   "outputs": [],
   "source": [
    "#PRabesh being studip <comment> \n",
    "\n",
    "# Use OneVsRest Classifier with logistic regression as loss function\n",
    "#classifier = OneVsRestClassifier(SGDClassifier(loss=\"squared_loss\", alpha=best_alpha, penalty=\"l2\", class_weight=\"balanced\"))\n",
    "#classifier.fit(train_x_tfidf, train_y_tfidf)\n",
    "#y_pred = classifier.predict(test_x_tfidf)\n",
    "\n",
    "#print(\"Accuracy:\", metrics.accuracy_score(test_y_tfidf, y_pred))\n",
    "#print(\"Hamming Loss (number of incorrect labels):\", \n",
    "#      metrics.hamming_loss(test_y_tfidf, y_pred))\n"
   ]
  },
  {
   "cell_type": "code",
   "execution_count": 19,
   "metadata": {},
   "outputs": [],
   "source": [
    "#model builder\n",
    "def train_model(classifier, feature_vector_train, label, feature_vector_valid):\n",
    "    \n",
    "    # fit the training dataset on the classifier\n",
    "    classifier.fit(feature_vector_train, label)\n",
    "    \n",
    "    # predict the labels on validation dataset\n",
    "    predictions = classifier.predict(feature_vector_valid)\n",
    "    \n",
    "    return metrics.accuracy_score(predictions, test_y)"
   ]
  },
  {
   "cell_type": "code",
   "execution_count": 39,
   "metadata": {
    "scrolled": true
   },
   "outputs": [
    {
     "name": "stdout",
     "output_type": "stream",
     "text": [
      "NB TF-IDF:  0.44493494423791824\n"
     ]
    }
   ],
   "source": [
    "# Naive Bayes on TF IDF Vectors\n",
    "accuracy = train_model(naive_bayes.MultinomialNB(), train_x_tfidf, train_y, test_x_tfidf)\n",
    "print(\"NB TF-IDF: \", accuracy)\n",
    "\n",
    "# # Naive Bayes on W2V\n",
    "#accuracy = train_model(naive_bayes.MultinomialNB(), train_x_w2v, train_y, test_x_w2v)\n",
    "#print(\"NB W2V: \", accuracy)"
   ]
  },
  {
   "cell_type": "code",
   "execution_count": 21,
   "metadata": {},
   "outputs": [
    {
     "name": "stdout",
     "output_type": "stream",
     "text": [
      "LR TF-IDF:  0.4785083643122677\n"
     ]
    }
   ],
   "source": [
    "# Logistic Regression on TF IDF Vectors\n",
    "accuracy = train_model(linear_model.LogisticRegression(), train_x_tfidf, train_y, test_x_tfidf)\n",
    "print(\"LR TF-IDF: \", accuracy)"
   ]
  },
  {
   "cell_type": "code",
   "execution_count": 22,
   "metadata": {},
   "outputs": [
    {
     "name": "stdout",
     "output_type": "stream",
     "text": [
      "SVM-linear TF-IDF :  0.5010455390334573\n"
     ]
    }
   ],
   "source": [
    "# Vaniallia SVM on TF IDF Vectors\n",
    "accuracy = train_model(svm.SVC(kernel='linear'), train_x_tfidf, train_y, test_x_tfidf)\n",
    "print(\"SVM-linear TF-IDF : \", accuracy)"
   ]
  },
  {
   "cell_type": "code",
   "execution_count": 23,
   "metadata": {},
   "outputs": [
    {
     "name": "stdout",
     "output_type": "stream",
     "text": [
      "SVM-rbf TF-IDF :  0.6847118959107806\n"
     ]
    }
   ],
   "source": [
    "#SVM radial basis function kernel on TF IDF Vector\n",
    "accuracy = train_model(svm.SVC(kernel='rbf'), train_x_tfidf, train_y, test_x_tfidf)\n",
    "print(\"SVM-rbf TF-IDF : \", accuracy)"
   ]
  },
  {
   "cell_type": "code",
   "execution_count": 24,
   "metadata": {},
   "outputs": [],
   "source": [
    "## Future work to use Deep learning algorithm such as CNN, RNN - LSTM\n",
    "\n",
    "# # transfer learning using Google BERT"
   ]
  },
  {
   "cell_type": "code",
   "execution_count": null,
   "metadata": {},
   "outputs": [],
   "source": []
  },
  {
   "cell_type": "code",
   "execution_count": null,
   "metadata": {},
   "outputs": [],
   "source": []
  }
 ],
 "metadata": {
  "colab": {
   "collapsed_sections": [],
   "name": "COGS118B.ipynb",
   "provenance": []
  },
  "kernelspec": {
   "display_name": "Python 3",
   "language": "python",
   "name": "python3"
  },
  "language_info": {
   "codemirror_mode": {
    "name": "ipython",
    "version": 3
   },
   "file_extension": ".py",
   "mimetype": "text/x-python",
   "name": "python",
   "nbconvert_exporter": "python",
   "pygments_lexer": "ipython3",
   "version": "3.7.1"
  }
 },
 "nbformat": 4,
 "nbformat_minor": 1
}
